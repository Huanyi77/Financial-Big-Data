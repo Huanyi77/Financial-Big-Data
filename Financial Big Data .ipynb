!pip install yfinance
!pip install vectorbt
/tmp/ipython-input-1307046928.py:4: FutureWarning: YF.download() has changed argument auto_adjust default to True
  data = yf.download('00915.TW', start='2020-01-01', end='2024-12-25'  ,interval='1d')
[*********************100%***********************]  1 of 1 completedPrice           Close       High        Low       Open    Volume
Date                                                            
2022-08-01  11.949522  11.949522  11.949522  11.949522         0
2022-08-02  11.949522  11.949522  11.949522  11.949522         0
2022-08-03  11.949522  11.949522  11.949522  11.949522         0
2022-08-04  11.949522  11.949522  11.949522  11.949522         0
2022-08-05  11.989352  11.989352  11.989352  11.989352         0
...               ...        ...        ...        ...       ...
2024-12-18  24.177275  24.196687  24.051099  24.109334  12460294
2024-12-19  23.934628  24.051099  23.789040  23.973452  19227914
2024-12-20  23.837570  23.905511  23.779336  23.895807  16373659
2024-12-23  24.099628  24.138453  23.924923  23.924923   8688869
2024-12-24  24.080215  24.186980  24.070509  24.119040   7715129

[584 rows x 5 columns]

import yfinance as yf
import pandas as pd
import vectorbt as vbt
data = yf.download('00915.TW', start='2020-01-01', end='2024-12-25'  ,interval='1d')

# drop the second layer in the column name
data.columns = data.columns.droplevel(1)
print(data)

data['ma12'] = data['Close'].rolling(12).mean()
data['ma26'] = data['Close'].rolling(26).mean()
data['s_out'] = (data.ma12 < data.ma26) & (data.ma12.shift(1) > data.ma26.shift(1)) # breakthrough downward
data['s_in'] = (data.ma12 > data.ma26) & (data.ma12.shift(1) < data.ma26.shift(1)) # breakthrough upward
data.dropna(inplace=True)
p = vbt.Portfolio.from_signals(data['Close'].shift(-1), data.s_in, data.s_out, freq='1d',init_cash=1000000, fees=0.004425/2, direction="longonly") #<----you have to revise this line of code!
p.positions.records   

# Annualized return
p.annualized_return()

p.stats()

import yfinance as yf
import pandas as pd
import vectorbt as vbt
import numpy as np

# Download data
data = yf.download('00915.TW', start='2019-01-01', end='2022-12-31', interval='1d') #<----you have to revise this line of code!
data.columns = data.columns.droplevel(1)

# Define a function to calculate portfolio performance for given parameters
def run_strategy(short_window, long_window):
    data['ma_short'] = data['Close'].rolling(short_window).mean()
    data['ma_long'] = data['Close'].rolling(long_window).mean()
    data['s_out'] = (data.ma_short < data.ma_long) & (data.ma_short.shift(1) > data.ma_long.shift(1))
    data['s_in'] = (data.ma_short > data.ma_long) & (data.ma_short.shift(1) < data.ma_long.shift(1))
    portfolio = vbt.Portfolio.from_signals(data['Close'].shift(-1), data.s_in, data.s_out, freq='1d', init_cash=1000000, fees=0.004425/2, direction='Longonly') #<----you have to revise this line of code!
    return portfolio.annualized_return()

# Parameter grid search
short_windows = range(1,10)  # Example short window values #<----you have to revise this line of code!
long_windows = range(2, 60)   # Example long window values #<----you have to revise this line of code!

best_short_window = 0
best_long_window = 0
best_annualized_return = -np.inf


for short_window in short_windows:
    for long_window in long_windows:
        if short_window < long_window: # Ensure short window is smaller than long window
            annualized_return = run_strategy(short_window, long_window)
            if annualized_return > best_annualized_return:
                best_annualized_return = annualized_return
                best_short_window = short_window
                best_long_window = long_window

print(f"Best short window: {best_short_window}")
print(f"Best long window: {best_long_window}")
print(f"Best annualized return: {best_annualized_return}")

def run_strategy_stats(short_window, long_window,s,e):
    data = yf.download('00915.TW', start='2022-01-01', end='2024-12-25', interval='1d') #<----you have to revise this line of code!
    data.columns = data.columns.droplevel(1)
    data['ma_short'] = data['Close'].rolling(short_window).mean()
    data['ma_long'] = data['Close'].rolling(long_window).mean()
    data['s_out'] = (data.ma_short < data.ma_long) & (data.ma_short.shift(1) > data.ma_long.shift(1))
    data['s_in'] = (data.ma_short > data.ma_long) & (data.ma_short.shift(1) < data.ma_long.shift(1))
    portfolio = vbt.Portfolio.from_signals(data['Close'].shift(), data.s_in, data.s_out, freq='1d', init_cash=500000, fees=0.004425/2) #<----you have to revise this line of code!
    return portfolio.stats()


print(run_strategy_stats(8,31,'2024-1-1','2024-12-31'))

!pip install yfinance
!pip install vectorbt
!pip install groq
import yfinance as yf
import vectorbt as vbt
import matplotlib.pyplot as plt
import pandas as pd
from groq import Groq
import uuid
from datetime import datetime

import yfinance as yf
import pandas as pd
import matplotlib.pyplot as plt
import vectorbt as vbt

# 使用者輸入
asset = input("請輸入資產代碼 (如 00915.TW): ") or "00915.TW"
short_ma = int(input("請輸入短期均線天數 (如 12): ") or 12)
long_ma = int(input("請輸入長期均線天數 (如 26): ") or 26)
init_cash = float(input("請輸入初始資金 (如 1000000): ") or 1000000)
fees = float(input("請輸入交易費用率 (如 0.0022125): ") or 0.0022125)
start_date = input("請輸入回測起始日期 (如 2022-09-09): ") or "2023-01-01"
end_date = input("請輸入回測結束日期 (如 2024-12-25): ") or "2024-12-25"

# 下載數據
data = yf.download(asset, start=start_date, end=end_date, interval='1d')

# 處理多層索引
if isinstance(data.columns, pd.MultiIndex):
    data.columns = data.columns.droplevel(1)

# 設置中文字體
plt.rcParams['font.sans-serif'] = ['SimHei']
plt.rcParams['axes.unicode_minus'] = False

# 計算均線
data[f'ma{short_ma}'] = data['Close'].rolling(short_ma).mean()
data[f'ma{long_ma}'] = data['Close'].rolling(long_ma).mean()

# 訊號產生
data['s_in'] = (data[f'ma{short_ma}'] > data[f'ma{long_ma}']) & \
               (data[f'ma{short_ma}'].shift(1) <= data[f'ma{long_ma}'].shift(1))
data['s_out'] = (data[f'ma{short_ma}'] < data[f'ma{long_ma}']) & \
                (data[f'ma{short_ma}'].shift(1) >= data[f'ma{long_ma}'].shift(1))

# 移除缺失值
data.dropna(inplace=True)

# 建立投資組合
portfolio = vbt.Portfolio.from_signals(
    close=data['Close'],
    entries=data['s_in'],
    exits=data['s_out'],
    freq='1D',
    init_cash=init_cash,
    fees=fees,
    direction="longonly"
)

# 顯示統計資料
print("\n回測統計數據：")
print(portfolio.stats().to_string())  # 使用 to_string() 可以完整顯示所有欄位

from groq import Groq

client = Groq(api_key="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")

if data.empty:
    print("❌ 無法下載資料，請確認資產代碼與時間區間是否正確。")
    exit()

# 顯示統計資料並送出 Groq 分析
try:
    stats = portfolio.stats()
    print("\nBacktest Statistics:")
    print(stats.to_string())

    # 組出英文 Prompt
    prompt = f"""
Based on the following portfolio performance, evaluate the risk and return level (Low Risk Low Return, Low Risk Medium Return, Low Risk High Return, Medium Risk Low Return, Medium Risk Medium Return, Medium Risk High Return, High Risk Low Return, High Risk Medium Return, High Risk High Return) and provide a brief analysis:

- Asset: {asset}
- Strategy: {short_ma}-day and {long_ma}-day moving average crossover, long only
- Initial Capital: {init_cash} TWD
- Transaction Fee: {fees*100:.4f}%
- Backtest Period: {start_date} to {end_date}
- Statistics: {stats.to_dict()}

Please answer in English and explain the reasoning behind the risk evaluation.
"""

    # 發送給 Groq
    response = client.chat.completions.create(
        model="llama3-8b-8192",
        messages=[{"role": "user", "content": prompt}]
    )

    print("\n📊 Risk Assessment:")
    print(response.choices[0].message.content)

except Exception as e:
    print("⚠️ An error occurred during backtest or risk analysis:", e)
